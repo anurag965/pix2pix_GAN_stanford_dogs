{
  "metadata": {
    "kernelspec": {
      "language": "python",
      "display_name": "Python 3",
      "name": "python3"
    },
    "language_info": {
      "name": "python",
      "version": "3.10.12",
      "mimetype": "text/x-python",
      "codemirror_mode": {
        "name": "ipython",
        "version": 3
      },
      "pygments_lexer": "ipython3",
      "nbconvert_exporter": "python",
      "file_extension": ".py"
    },
    "kaggle": {
      "accelerator": "gpu",
      "dataSources": [],
      "dockerImageVersionId": 30919,
      "isInternetEnabled": true,
      "language": "python",
      "sourceType": "notebook",
      "isGpuEnabled": true
    },
    "colab": {
      "name": "AI_PROJECT",
      "provenance": []
    }
  },
  "nbformat_minor": 0,
  "nbformat": 4,
  "cells": [
    {
      "cell_type": "code",
      "source": [
        "# This Python 3 environment comes with many helpful analytics libraries installed\n",
        "# It is defined by the kaggle/python Docker image: https://github.com/kaggle/docker-python\n",
        "# For example, here's several helpful packages to load\n",
        "\n",
        "import numpy as np # linear algebra\n",
        "import pandas as pd # data processing, CSV file I/O (e.g. pd.read_csv)\n",
        "\n",
        "# Input data files are available in the read-only \"../input/\" directory\n",
        "# For example, running this (by clicking run or pressing Shift+Enter) will list all files under the input directory\n",
        "\n",
        "import os\n",
        "for dirname, _, filenames in os.walk('/kaggle/input'):\n",
        "    for filename in filenames:\n",
        "        print(os.path.join(dirname, filename))\n",
        "\n",
        "# You can write up to 20GB to the current directory (/kaggle/working/) that gets preserved as output when you create a version using \"Save & Run All\"\n",
        "# You can also write temporary files to /kaggle/temp/, but they won't be saved outside of the current session"
      ],
      "metadata": {
        "_uuid": "8f2839f25d086af736a60e9eeb907d3b93b6e0e5",
        "_cell_guid": "b1076dfc-b9ad-4769-8c92-a6c4dae69d19",
        "trusted": true,
        "execution": {
          "iopub.status.busy": "2025-03-31T08:42:19.4423Z",
          "iopub.execute_input": "2025-03-31T08:42:19.442604Z",
          "iopub.status.idle": "2025-03-31T08:42:19.720518Z",
          "shell.execute_reply.started": "2025-03-31T08:42:19.442582Z",
          "shell.execute_reply": "2025-03-31T08:42:19.719869Z"
        },
        "id": "LNXL7_0t-GBe"
      },
      "outputs": [],
      "execution_count": null
    },
    {
      "cell_type": "code",
      "source": [
        "import tensorflow_datasets as tfds\n",
        "import tensorflow as tf\n",
        "import numpy as np\n",
        "import cv2\n",
        "import matplotlib.pyplot as plt\n",
        "\n",
        "(ds_train, ds_test), ds_info = tfds.load(\n",
        "    'stanford_dogs',\n",
        "    split=['train', 'test'],\n",
        "    shuffle_files=True,\n",
        "    as_supervised=True,\n",
        "    with_info=True\n",
        ")\n",
        "\n",
        "print(ds_train)"
      ],
      "metadata": {
        "trusted": true,
        "execution": {
          "iopub.status.busy": "2025-03-31T08:42:19.721526Z",
          "iopub.execute_input": "2025-03-31T08:42:19.721969Z",
          "iopub.status.idle": "2025-03-31T08:45:30.256774Z",
          "shell.execute_reply.started": "2025-03-31T08:42:19.721919Z",
          "shell.execute_reply": "2025-03-31T08:45:30.255784Z"
        },
        "id": "RvbGArHE-GBf"
      },
      "outputs": [],
      "execution_count": null
    },
    {
      "cell_type": "code",
      "source": [
        "import cv2\n",
        "\n",
        "def normalize_image(image):\n",
        "  # Scale image to 256x256\n",
        "  return cv2.resize(image, dsize=(256,256), interpolation=cv2.INTER_CUBIC)"
      ],
      "metadata": {
        "trusted": true,
        "execution": {
          "iopub.status.busy": "2025-03-31T08:45:30.258327Z",
          "iopub.execute_input": "2025-03-31T08:45:30.258589Z",
          "iopub.status.idle": "2025-03-31T08:45:30.264152Z",
          "shell.execute_reply.started": "2025-03-31T08:45:30.258565Z",
          "shell.execute_reply": "2025-03-31T08:45:30.263318Z"
        },
        "id": "x7HitTf3-GBg"
      },
      "outputs": [],
      "execution_count": null
    },
    {
      "cell_type": "code",
      "source": [
        "sample_dog, _ = next(iter(ds_train.take(1)))\n",
        "\n",
        "plt.imshow(normalize_image(sample_dog.numpy()))\n"
      ],
      "metadata": {
        "trusted": true,
        "execution": {
          "iopub.status.busy": "2025-03-31T08:45:30.265315Z",
          "iopub.execute_input": "2025-03-31T08:45:30.265542Z",
          "iopub.status.idle": "2025-03-31T08:45:31.323314Z",
          "shell.execute_reply.started": "2025-03-31T08:45:30.265522Z",
          "shell.execute_reply": "2025-03-31T08:45:31.322287Z"
        },
        "id": "jUu28rqN-GBg"
      },
      "outputs": [],
      "execution_count": null
    },
    {
      "cell_type": "code",
      "source": [
        "def generate_outline(image):\n",
        "  edges = cv2.Canny(image.numpy(), 190, 220)\n",
        "  return cv2.cvtColor(edges, cv2.COLOR_GRAY2RGB)"
      ],
      "metadata": {
        "trusted": true,
        "execution": {
          "iopub.status.busy": "2025-03-31T08:45:31.324205Z",
          "iopub.execute_input": "2025-03-31T08:45:31.324486Z",
          "iopub.status.idle": "2025-03-31T08:45:31.329787Z",
          "shell.execute_reply.started": "2025-03-31T08:45:31.324451Z",
          "shell.execute_reply": "2025-03-31T08:45:31.328871Z"
        },
        "id": "GGP1-Gxk-GBh"
      },
      "outputs": [],
      "execution_count": null
    },
    {
      "cell_type": "code",
      "source": [
        "plt.imshow(generate_outline(sample_dog))"
      ],
      "metadata": {
        "trusted": true,
        "execution": {
          "iopub.status.busy": "2025-03-31T08:45:31.330555Z",
          "iopub.execute_input": "2025-03-31T08:45:31.330826Z",
          "iopub.status.idle": "2025-03-31T08:45:33.898071Z",
          "shell.execute_reply.started": "2025-03-31T08:45:31.330803Z",
          "shell.execute_reply": "2025-03-31T08:45:33.896376Z"
        },
        "id": "_je3uG8O-GBh"
      },
      "outputs": [],
      "execution_count": null
    },
    {
      "cell_type": "code",
      "source": [
        "BATCH_SIZE = 4"
      ],
      "metadata": {
        "trusted": true,
        "execution": {
          "iopub.status.busy": "2025-03-31T08:45:33.899117Z",
          "iopub.execute_input": "2025-03-31T08:45:33.899637Z",
          "iopub.status.idle": "2025-03-31T08:45:33.904274Z",
          "shell.execute_reply.started": "2025-03-31T08:45:33.899598Z",
          "shell.execute_reply": "2025-03-31T08:45:33.90315Z"
        },
        "id": "Rhq8Rnkr-GBi"
      },
      "outputs": [],
      "execution_count": null
    },
    {
      "cell_type": "code",
      "source": [
        "def output_preprocess(image, label):\n",
        "  scaled = tf.cast(image, tf.float32) / 255\n",
        "  resized = tf.image.resize(scaled, [256, 256])\n",
        "  return resized, label\n",
        "\n",
        "def input_preprocess(image, label):\n",
        "  as_uint = tf.cast(image * 255, tf.uint8)\n",
        "  [outline,] = tf.py_function(generate_outline, [as_uint], [tf.float32])\n",
        "  return image * 2 - 1, (tf.cast(outline, tf.float32) / 255) * 2 - 1\n",
        "\n",
        "processed_train = ds_train.map(output_preprocess).map(input_preprocess)\n",
        "processed_test = ds_test.map(output_preprocess).map(input_preprocess)\n",
        "\n",
        "sample_real, sample_outline = next(iter(processed_train.take(1)))\n",
        "\n",
        "processed_train = processed_train.shuffle(buffer_size=100).batch(BATCH_SIZE).prefetch(tf.data.AUTOTUNE)\n",
        "processed_test = processed_test.shuffle(buffer_size=100).batch(BATCH_SIZE).prefetch(tf.data.AUTOTUNE)\n",
        "\n",
        "fig, axs = plt.subplots(1, 2)\n",
        "axs[0].set_title('Outline')\n",
        "axs[0].imshow(sample_outline * 0.5 + 0.5)\n",
        "axs[1].set_title('Real')\n",
        "axs[1].imshow(sample_real * 0.5 + 0.5)"
      ],
      "metadata": {
        "trusted": true,
        "execution": {
          "iopub.status.busy": "2025-03-31T08:45:33.907267Z",
          "iopub.execute_input": "2025-03-31T08:45:33.907514Z",
          "iopub.status.idle": "2025-03-31T08:45:34.594705Z"
        },
        "id": "IWm5blTa-GBi"
      },
      "outputs": [],
      "execution_count": null
    },
    {
      "cell_type": "code",
      "source": [
        "IMG_WIDTH = 256\n",
        "IMG_HEIGHT = 256\n",
        "OUTPUT_CHANNELS = 3\n",
        "INPUT_CHANNELS = 1"
      ],
      "metadata": {
        "trusted": true,
        "execution": {
          "iopub.status.busy": "2025-03-31T08:45:34.596546Z",
          "iopub.execute_input": "2025-03-31T08:45:34.596914Z",
          "iopub.status.idle": "2025-03-31T08:45:34.60125Z",
          "shell.execute_reply.started": "2025-03-31T08:45:34.596873Z",
          "shell.execute_reply": "2025-03-31T08:45:34.600312Z"
        },
        "id": "fmS1FpzO-GBj"
      },
      "outputs": [],
      "execution_count": null
    },
    {
      "cell_type": "code",
      "source": [
        "def downsample(filters, size, apply_batchnorm=True):\n",
        "  initializer = tf.random_normal_initializer(0., 0.02)\n",
        "\n",
        "  result = tf.keras.Sequential()\n",
        "  result.add(\n",
        "      tf.keras.layers.Conv2D(filters, size, strides=2, padding='same',\n",
        "                             kernel_initializer=initializer, use_bias=False)\n",
        "  )\n",
        "\n",
        "  if apply_batchnorm:\n",
        "    result.add(tf.keras.layers.BatchNormalization())\n",
        "\n",
        "  result.add(tf.keras.layers.LeakyReLU())\n",
        "\n",
        "  return result"
      ],
      "metadata": {
        "trusted": true,
        "execution": {
          "iopub.status.busy": "2025-03-31T08:45:34.602224Z",
          "iopub.execute_input": "2025-03-31T08:45:34.602513Z",
          "iopub.status.idle": "2025-03-31T08:45:34.616839Z",
          "shell.execute_reply.started": "2025-03-31T08:45:34.602485Z",
          "shell.execute_reply": "2025-03-31T08:45:34.615988Z"
        },
        "id": "irMzlUAC-GBj"
      },
      "outputs": [],
      "execution_count": null
    },
    {
      "cell_type": "code",
      "source": [
        "down_model = downsample(3, 4)\n",
        "down_result = down_model(tf.expand_dims(sample_outline, 0))\n",
        "print(down_result.shape)"
      ],
      "metadata": {
        "trusted": true,
        "execution": {
          "iopub.status.busy": "2025-03-31T08:45:34.617739Z",
          "iopub.execute_input": "2025-03-31T08:45:34.618065Z",
          "iopub.status.idle": "2025-03-31T08:45:35.775758Z",
          "shell.execute_reply.started": "2025-03-31T08:45:34.618032Z",
          "shell.execute_reply": "2025-03-31T08:45:35.774737Z"
        },
        "id": "jv4MPoKj-GBk"
      },
      "outputs": [],
      "execution_count": null
    },
    {
      "cell_type": "code",
      "source": [
        "def upsample(filters, size, apply_dropout=True):\n",
        "  initializer = tf.random_normal_initializer(0., 0.02)\n",
        "\n",
        "  result = tf.keras.Sequential()\n",
        "  result.add(\n",
        "      tf.keras.layers.Conv2DTranspose(filters, size, strides=2,\n",
        "                                      padding='same',\n",
        "                                      kernel_initializer=initializer,\n",
        "                                      use_bias=False))\n",
        "  result.add(tf.keras.layers.BatchNormalization())\n",
        "\n",
        "  if apply_dropout:\n",
        "    result.add(tf.keras.layers.Dropout(0.5))\n",
        "\n",
        "  result.add(tf.keras.layers.ReLU())\n",
        "  return result"
      ],
      "metadata": {
        "trusted": true,
        "execution": {
          "iopub.status.busy": "2025-03-31T08:45:35.776448Z",
          "iopub.execute_input": "2025-03-31T08:45:35.776747Z",
          "iopub.status.idle": "2025-03-31T08:45:35.782176Z",
          "shell.execute_reply.started": "2025-03-31T08:45:35.776722Z",
          "shell.execute_reply": "2025-03-31T08:45:35.780915Z"
        },
        "id": "D4DEXQyS-GBk"
      },
      "outputs": [],
      "execution_count": null
    },
    {
      "cell_type": "code",
      "source": [
        "up_model = upsample(3, 4)\n",
        "up_result = up_model(down_result)\n",
        "print(up_result.shape)"
      ],
      "metadata": {
        "trusted": true,
        "execution": {
          "iopub.status.busy": "2025-03-31T08:45:35.783154Z",
          "iopub.execute_input": "2025-03-31T08:45:35.783685Z",
          "iopub.status.idle": "2025-03-31T08:45:36.031825Z",
          "shell.execute_reply.started": "2025-03-31T08:45:35.78366Z",
          "shell.execute_reply": "2025-03-31T08:45:36.030866Z"
        },
        "id": "CrWqgNTL-GBk"
      },
      "outputs": [],
      "execution_count": null
    },
    {
      "cell_type": "code",
      "source": [
        "def Generator():\n",
        "  inputs = tf.keras.layers.Input(shape=[256, 256, 3])\n",
        "\n",
        "  down_stack = [\n",
        "    downsample(64, 4, apply_batchnorm=False),  # (batch_size, 128, 128, 64)\n",
        "    downsample(128, 4),  # (batch_size, 64, 64, 128)\n",
        "    downsample(256, 4),  # (batch_size, 32, 32, 256)\n",
        "    downsample(512, 4),  # (batch_size, 16, 16, 512)\n",
        "    downsample(512, 4),  # (batch_size, 8, 8, 512)\n",
        "    downsample(512, 4),  # (batch_size, 4, 4, 512)\n",
        "    downsample(512, 4),  # (batch_size, 2, 2, 512)\n",
        "    downsample(512, 4),  # (batch_size, 1, 1, 512)\n",
        "  ]\n",
        "\n",
        "  up_stack = [\n",
        "    upsample(512, 4, apply_dropout=True),  # (batch_size, 2, 2, 1024)\n",
        "    upsample(512, 4, apply_dropout=True),  # (batch_size, 4, 4, 1024)\n",
        "    upsample(512, 4, apply_dropout=True),  # (batch_size, 8, 8, 1024)\n",
        "    upsample(512, 4),  # (batch_size, 16, 16, 1024)\n",
        "    upsample(256, 4),  # (batch_size, 32, 32, 512)\n",
        "    upsample(128, 4),  # (batch_size, 64, 64, 256)\n",
        "    upsample(64, 4),  # (batch_size, 128, 128, 128)\n",
        "  ]\n",
        "  initializer = tf.random_normal_initializer(0., 0.02)\n",
        "  last = tf.keras.layers.Conv2DTranspose(OUTPUT_CHANNELS, 4,\n",
        "                                         strides=2,\n",
        "                                         padding='same',\n",
        "                                         kernel_initializer=initializer,\n",
        "                                         activation='tanh')  # (batch_size, 256, 256, 3)\n",
        "\n",
        "  x = inputs\n",
        "\n",
        "  # Downsampling through the model\n",
        "  skips = []\n",
        "  for down in down_stack:\n",
        "    x = down(x)\n",
        "    skips.append(x)\n",
        "\n",
        "  skips = reversed(skips[:-1])\n",
        "\n",
        "  # Upsampling and establishing the skip connections\n",
        "  for up, skip in zip(up_stack, skips):\n",
        "    x = up(x)\n",
        "    x = tf.keras.layers.Concatenate()([x, skip])\n",
        "\n",
        "  x = last(x)\n",
        "\n",
        "  return tf.keras.Model(inputs=inputs, outputs=x)"
      ],
      "metadata": {
        "trusted": true,
        "execution": {
          "iopub.status.busy": "2025-03-31T08:45:36.032609Z",
          "iopub.execute_input": "2025-03-31T08:45:36.032821Z",
          "iopub.status.idle": "2025-03-31T08:45:36.040042Z",
          "shell.execute_reply.started": "2025-03-31T08:45:36.032802Z",
          "shell.execute_reply": "2025-03-31T08:45:36.039011Z"
        },
        "id": "Y1HPewju-GBl"
      },
      "outputs": [],
      "execution_count": null
    },
    {
      "cell_type": "code",
      "source": [
        "generator = Generator()\n",
        "tf.keras.utils.plot_model(generator, show_shapes=True, dpi=64)"
      ],
      "metadata": {
        "trusted": true,
        "execution": {
          "iopub.status.busy": "2025-03-31T08:45:36.040992Z",
          "iopub.execute_input": "2025-03-31T08:45:36.041311Z"
        },
        "id": "dF3U__h2-GBl"
      },
      "outputs": [],
      "execution_count": null
    },
    {
      "cell_type": "code",
      "source": [
        "# Testing the generator...\n",
        "gen_output = generator(sample_outline[tf.newaxis, ...], training=False)\n",
        "plt.imshow(gen_output[0, ...])"
      ],
      "metadata": {
        "trusted": true,
        "execution": {
          "iopub.status.busy": "2025-03-31T08:45:36.668965Z",
          "iopub.execute_input": "2025-03-31T08:45:36.669249Z"
        },
        "id": "koNtLIE7-GBl"
      },
      "outputs": [],
      "execution_count": null
    },
    {
      "cell_type": "code",
      "source": [
        "LAMBDA = 100"
      ],
      "metadata": {
        "trusted": true,
        "execution": {
          "iopub.status.busy": "2025-03-31T08:45:37.848389Z",
          "iopub.execute_input": "2025-03-31T08:45:37.848697Z",
          "iopub.status.idle": "2025-03-31T08:45:37.853366Z",
          "shell.execute_reply.started": "2025-03-31T08:45:37.848668Z",
          "shell.execute_reply": "2025-03-31T08:45:37.852322Z"
        },
        "id": "tLw_syGh-GBm"
      },
      "outputs": [],
      "execution_count": null
    },
    {
      "cell_type": "code",
      "source": [
        "loss_object = tf.keras.losses.BinaryCrossentropy(from_logits=True)"
      ],
      "metadata": {
        "trusted": true,
        "execution": {
          "iopub.status.busy": "2025-03-31T08:45:37.854209Z",
          "iopub.execute_input": "2025-03-31T08:45:37.854545Z",
          "iopub.status.idle": "2025-03-31T08:45:37.86893Z",
          "shell.execute_reply.started": "2025-03-31T08:45:37.854514Z",
          "shell.execute_reply": "2025-03-31T08:45:37.868124Z"
        },
        "id": "7Pc5asyi-GBm"
      },
      "outputs": [],
      "execution_count": null
    },
    {
      "cell_type": "code",
      "source": [
        "def generator_loss(disc_generated_output, gen_output, target):\n",
        "  gan_loss = loss_object(tf.ones_like(disc_generated_output), disc_generated_output)\n",
        "\n",
        "  l1_loss = tf.reduce_mean(tf.abs(target - gen_output))\n",
        "  total_gen_loss = gan_loss + (LAMBDA * l1_loss)\n",
        "\n",
        "  return total_gen_loss, gan_loss, l1_loss"
      ],
      "metadata": {
        "trusted": true,
        "execution": {
          "iopub.status.busy": "2025-03-31T08:45:37.869802Z",
          "iopub.execute_input": "2025-03-31T08:45:37.87015Z",
          "iopub.status.idle": "2025-03-31T08:45:37.890182Z",
          "shell.execute_reply.started": "2025-03-31T08:45:37.870114Z",
          "shell.execute_reply": "2025-03-31T08:45:37.889308Z"
        },
        "id": "paVeu4l2-GBm"
      },
      "outputs": [],
      "execution_count": null
    },
    {
      "cell_type": "code",
      "source": [
        "def Discriminator():\n",
        "  initializer = tf.random_normal_initializer(0., 0.02)\n",
        "\n",
        "  inp = tf.keras.layers.Input(shape=[256, 256, 3], name='input_image')\n",
        "  tar = tf.keras.layers.Input(shape=[256, 256, 3], name='target_image')\n",
        "\n",
        "  x = tf.keras.layers.concatenate([inp, tar])  # (batch_size, 256, 256, channels*2)\n",
        "\n",
        "  down1 = downsample(64, 4, False)(x)  # (batch_size, 128, 128, 64)\n",
        "  down2 = downsample(128, 4)(down1)  # (batch_size, 64, 64, 128)\n",
        "  down3 = downsample(256, 4)(down2)  # (batch_size, 32, 32, 256)\n",
        "\n",
        "  zero_pad1 = tf.keras.layers.ZeroPadding2D()(down3)  # (batch_size, 34, 34, 256)\n",
        "  conv = tf.keras.layers.Conv2D(512, 4, strides=1,\n",
        "                                kernel_initializer=initializer,\n",
        "                                use_bias=False)(zero_pad1)  # (batch_size, 31, 31, 512)\n",
        "\n",
        "  batchnorm1 = tf.keras.layers.BatchNormalization()(conv)\n",
        "\n",
        "  leaky_relu = tf.keras.layers.LeakyReLU()(batchnorm1)\n",
        "\n",
        "  zero_pad2 = tf.keras.layers.ZeroPadding2D()(leaky_relu)  # (batch_size, 33, 33, 512)\n",
        "\n",
        "  last = tf.keras.layers.Conv2D(1, 4, strides=1,\n",
        "                                kernel_initializer=initializer)(zero_pad2)  # (batch_size, 30, 30, 1)\n",
        "\n",
        "  return tf.keras.Model(inputs=[inp, tar], outputs=last)"
      ],
      "metadata": {
        "trusted": true,
        "execution": {
          "iopub.status.busy": "2025-03-31T08:45:37.891098Z",
          "iopub.execute_input": "2025-03-31T08:45:37.89141Z",
          "iopub.status.idle": "2025-03-31T08:45:37.906226Z",
          "shell.execute_reply.started": "2025-03-31T08:45:37.891377Z",
          "shell.execute_reply": "2025-03-31T08:45:37.905399Z"
        },
        "id": "WMHA2CuM-GBm"
      },
      "outputs": [],
      "execution_count": null
    },
    {
      "cell_type": "code",
      "source": [
        "discriminator = Discriminator()\n",
        "tf.keras.utils.plot_model(discriminator, show_shapes=True, dpi=64)"
      ],
      "metadata": {
        "trusted": true,
        "execution": {
          "iopub.status.busy": "2025-03-31T08:45:37.907226Z",
          "iopub.execute_input": "2025-03-31T08:45:37.90754Z",
          "iopub.status.idle": "2025-03-31T08:45:38.072245Z",
          "shell.execute_reply.started": "2025-03-31T08:45:37.907507Z",
          "shell.execute_reply": "2025-03-31T08:45:38.071435Z"
        },
        "id": "ovYBvoPK-GBn"
      },
      "outputs": [],
      "execution_count": null
    },
    {
      "cell_type": "code",
      "source": [
        "disc_out = discriminator([sample_outline[tf.newaxis, ...], gen_output], training=False)\n",
        "plt.imshow(disc_out[0, ..., -1], vmin=-20, vmax=20, cmap='RdBu_r')\n",
        "plt.colorbar()"
      ],
      "metadata": {
        "trusted": true,
        "execution": {
          "iopub.status.busy": "2025-03-31T08:45:38.073029Z",
          "iopub.execute_input": "2025-03-31T08:45:38.073331Z",
          "iopub.status.idle": "2025-03-31T08:45:38.449211Z",
          "shell.execute_reply.started": "2025-03-31T08:45:38.073295Z",
          "shell.execute_reply": "2025-03-31T08:45:38.448454Z"
        },
        "id": "_8n4YbtU-GBn"
      },
      "outputs": [],
      "execution_count": null
    },
    {
      "cell_type": "code",
      "source": [
        "def discriminator_loss(disc_real_output, disc_generated_output):\n",
        "  real_loss = loss_object(tf.ones_like(disc_real_output), disc_real_output)\n",
        "\n",
        "  generated_loss = loss_object(tf.zeros_like(disc_generated_output), disc_generated_output)\n",
        "\n",
        "  total_disc_loss = real_loss + generated_loss\n",
        "\n",
        "  return total_disc_loss"
      ],
      "metadata": {
        "trusted": true,
        "execution": {
          "iopub.status.busy": "2025-03-31T08:45:38.452436Z",
          "iopub.execute_input": "2025-03-31T08:45:38.452731Z",
          "iopub.status.idle": "2025-03-31T08:45:38.456859Z",
          "shell.execute_reply.started": "2025-03-31T08:45:38.452708Z",
          "shell.execute_reply": "2025-03-31T08:45:38.45593Z"
        },
        "id": "4I7t5Uwz-GBn"
      },
      "outputs": [],
      "execution_count": null
    },
    {
      "cell_type": "code",
      "source": [
        "generator_optimizer = tf.keras.optimizers.Adam(2e-4, beta_1=0.5)\n",
        "discriminator_optimizer = tf.keras.optimizers.Adam(2e-4, beta_1=0.5)"
      ],
      "metadata": {
        "trusted": true,
        "execution": {
          "iopub.status.busy": "2025-03-31T08:45:38.458065Z",
          "iopub.execute_input": "2025-03-31T08:45:38.458289Z",
          "iopub.status.idle": "2025-03-31T08:45:38.481708Z",
          "shell.execute_reply.started": "2025-03-31T08:45:38.458268Z",
          "shell.execute_reply": "2025-03-31T08:45:38.480769Z"
        },
        "id": "DZXL0LDD-GBn"
      },
      "outputs": [],
      "execution_count": null
    },
    {
      "cell_type": "code",
      "source": [
        "def generate_images(model, test_input, tar):\n",
        "  prediction = model(test_input, training=True)\n",
        "  plt.figure(figsize=(15, 15))\n",
        "\n",
        "  display_list = [test_input[0], tar[0], prediction[0]]\n",
        "  title = ['Input Image', 'Ground Truth', 'Predicted Image']\n",
        "\n",
        "  for i in range(3):\n",
        "    plt.subplot(1, 3, i+1)\n",
        "    plt.title(title[i])\n",
        "    # Getting the pixel values in the [0, 1] range to plot.\n",
        "    plt.imshow(display_list[i] * 0.5 + 0.5)\n",
        "    plt.axis('off')\n",
        "  plt.show()"
      ],
      "metadata": {
        "trusted": true,
        "execution": {
          "iopub.status.busy": "2025-03-31T08:45:38.482837Z",
          "iopub.execute_input": "2025-03-31T08:45:38.483152Z",
          "iopub.status.idle": "2025-03-31T08:45:38.487996Z",
          "shell.execute_reply.started": "2025-03-31T08:45:38.483123Z",
          "shell.execute_reply": "2025-03-31T08:45:38.487304Z"
        },
        "id": "jme91Iy9-GBo"
      },
      "outputs": [],
      "execution_count": null
    },
    {
      "cell_type": "code",
      "source": [
        "for example_target, example_input in processed_test.take(1):\n",
        "  generate_images(generator, example_input, example_target)"
      ],
      "metadata": {
        "trusted": true,
        "execution": {
          "iopub.status.busy": "2025-03-31T08:45:38.488684Z",
          "iopub.execute_input": "2025-03-31T08:45:38.488967Z",
          "iopub.status.idle": "2025-03-31T08:45:42.007741Z",
          "shell.execute_reply.started": "2025-03-31T08:45:38.488923Z",
          "shell.execute_reply": "2025-03-31T08:45:42.00704Z"
        },
        "id": "BkTLUMPx-GBo"
      },
      "outputs": [],
      "execution_count": null
    },
    {
      "cell_type": "code",
      "source": [
        "import datetime\n",
        "log_dir = \"logs/\"\n",
        "summary_writer = tf.summary.create_file_writer(\n",
        "  log_dir + \"fit/\" + datetime.datetime.now().strftime(\"%Y%m%d-%H%M%S\"))"
      ],
      "metadata": {
        "trusted": true,
        "execution": {
          "iopub.status.busy": "2025-03-31T08:45:42.008826Z",
          "iopub.execute_input": "2025-03-31T08:45:42.009124Z",
          "iopub.status.idle": "2025-03-31T08:45:42.017137Z",
          "shell.execute_reply.started": "2025-03-31T08:45:42.009101Z",
          "shell.execute_reply": "2025-03-31T08:45:42.01621Z"
        },
        "id": "YNMwc7TP-GBo"
      },
      "outputs": [],
      "execution_count": null
    },
    {
      "cell_type": "code",
      "source": [
        "@tf.function\n",
        "def train_step(input_image, target, step):\n",
        "  with tf.GradientTape() as gen_tape, tf.GradientTape() as disc_tape:\n",
        "    gen_output = generator(input_image, training=True)\n",
        "\n",
        "    disc_real_output = discriminator([input_image, target], training=True)\n",
        "    disc_generated_output = discriminator([input_image, gen_output], training=True)\n",
        "\n",
        "    gen_total_loss, gen_gan_loss, gen_l1_loss = generator_loss(disc_generated_output, gen_output, target)\n",
        "    disc_loss = discriminator_loss(disc_real_output, disc_generated_output)\n",
        "\n",
        "  generator_gradients = gen_tape.gradient(gen_total_loss,\n",
        "                                          generator.trainable_variables)\n",
        "  discriminator_gradients = disc_tape.gradient(disc_loss,\n",
        "                                               discriminator.trainable_variables)\n",
        "\n",
        "  generator_optimizer.apply_gradients(zip(generator_gradients,\n",
        "                                          generator.trainable_variables))\n",
        "  discriminator_optimizer.apply_gradients(zip(discriminator_gradients,\n",
        "                                               discriminator.trainable_variables))\n",
        "\n",
        "  with summary_writer.as_default():\n",
        "    tf.summary.scalar('gen_total_loss', gen_total_loss, step=step//1000)\n",
        "    tf.summary.scalar('gen_gan_loss', gen_gan_loss, step=step//1000)\n",
        "    tf.summary.scalar('gen_l1_loss', gen_l1_loss, step=step//1000)\n",
        "    tf.summary.scalar('disc_loss', disc_loss, step=step//1000)"
      ],
      "metadata": {
        "trusted": true,
        "execution": {
          "iopub.status.busy": "2025-03-31T08:45:42.017923Z",
          "iopub.execute_input": "2025-03-31T08:45:42.018183Z",
          "iopub.status.idle": "2025-03-31T08:45:42.029863Z",
          "shell.execute_reply.started": "2025-03-31T08:45:42.018163Z",
          "shell.execute_reply": "2025-03-31T08:45:42.029014Z"
        },
        "id": "gPvLi0rJ-GBo"
      },
      "outputs": [],
      "execution_count": null
    },
    {
      "cell_type": "code",
      "source": [
        "import time\n",
        "import os\n",
        "def fit(train_ds, test_ds, steps):\n",
        "  # Define checkpoint and checkpoint_prefix here\n",
        "  checkpoint_dir = './training_checkpoints'\n",
        "  checkpoint_prefix = os.path.join(checkpoint_dir, \"ckpt\")\n",
        "  checkpoint = tf.train.Checkpoint(generator_optimizer=generator_optimizer,\n",
        "                                 discriminator_optimizer=discriminator_optimizer,\n",
        "                                 generator=generator,\n",
        "                                 discriminator=discriminator)\n",
        "\n",
        "  example_target, example_input = next(iter(test_ds.take(1)))\n",
        "  start = time.time()\n",
        "\n",
        "  for step, (target, input_image) in train_ds.repeat().take(steps).enumerate():\n",
        "    if (step) % 1000 == 0:\n",
        "      #display.clear_output(wait=True)\n",
        "\n",
        "      if step != 0:\n",
        "        print(f'Time taken for 1000 steps: {time.time()-start:.2f} sec\\n')\n",
        "\n",
        "      start = time.time()\n",
        "\n",
        "      generate_images(generator, example_input, example_target)\n",
        "      print(f\"Step: {step//1000}k\")\n",
        "\n",
        "    train_step(input_image, target, step)\n",
        "\n",
        "    # Training step\n",
        "    if (step+1) % 10 == 0:\n",
        "      print('.', end='', flush=True)\n",
        "\n",
        "\n",
        "    # Save (checkpoint) the model every 5k steps\n",
        "    if (step + 1) % 5000 == 0:\n",
        "              checkpoint.save(file_prefix=checkpoint_prefix) # Save checkpoint here"
      ],
      "metadata": {
        "trusted": true,
        "execution": {
          "iopub.status.busy": "2025-03-31T08:45:42.030629Z",
          "iopub.execute_input": "2025-03-31T08:45:42.030868Z",
          "iopub.status.idle": "2025-03-31T08:45:42.048337Z",
          "shell.execute_reply.started": "2025-03-31T08:45:42.030848Z",
          "shell.execute_reply": "2025-03-31T08:45:42.047454Z"
        },
        "id": "6G3_v_sq-GBp"
      },
      "outputs": [],
      "execution_count": null
    },
    {
      "cell_type": "code",
      "source": [
        "%load_ext tensorboard\n",
        "%tensorboard --logdir {log_dir}"
      ],
      "metadata": {
        "trusted": true,
        "execution": {
          "iopub.status.busy": "2025-03-31T08:45:42.049251Z",
          "iopub.execute_input": "2025-03-31T08:45:42.049554Z",
          "iopub.status.idle": "2025-03-31T08:45:48.64072Z",
          "shell.execute_reply.started": "2025-03-31T08:45:42.04953Z",
          "shell.execute_reply": "2025-03-31T08:45:48.639912Z"
        },
        "id": "f-UrkZkK-GBp"
      },
      "outputs": [],
      "execution_count": null
    },
    {
      "cell_type": "code",
      "source": [
        "fit(processed_train, processed_test, steps=80000)"
      ],
      "metadata": {
        "trusted": true,
        "execution": {
          "iopub.status.busy": "2025-03-31T08:45:48.641683Z",
          "iopub.execute_input": "2025-03-31T08:45:48.642028Z",
          "iopub.status.idle": "2025-03-31T11:30:33.283433Z",
          "shell.execute_reply.started": "2025-03-31T08:45:48.641993Z",
          "shell.execute_reply": "2025-03-31T11:30:33.282633Z"
        },
        "id": "NwSByCqt-GBp"
      },
      "outputs": [],
      "execution_count": null
    }
  ]
}